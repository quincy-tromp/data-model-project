{
 "cells": [
  {
   "cell_type": "markdown",
   "id": "e5abd4ba",
   "metadata": {},
   "source": [
    "# Data Model Exercise"
   ]
  },
  {
   "cell_type": "markdown",
   "id": "ad338848",
   "metadata": {},
   "source": [
    "## Import library"
   ]
  },
  {
   "cell_type": "code",
   "execution_count": 28,
   "id": "e1e59210",
   "metadata": {},
   "outputs": [],
   "source": [
    "import pymysql\n",
    "import getpass"
   ]
  },
  {
   "cell_type": "markdown",
   "id": "883c99e0",
   "metadata": {},
   "source": [
    "## Connect to RDBMS"
   ]
  },
  {
   "cell_type": "code",
   "execution_count": 9,
   "id": "9d206692",
   "metadata": {},
   "outputs": [
    {
     "name": "stdout",
     "output_type": "stream",
     "text": [
      "········\n",
      "Connected to MySQL database.\n"
     ]
    }
   ],
   "source": [
    "try:\n",
    "    my_db = pymysql.connect(host='localhost',\n",
    "                            user='quincytromp',\n",
    "                            password=getpass.getpass(),\n",
    "                            autocommit=True)\n",
    "    print(\"Successfully connected to MySQL database.\")\n",
    "except pymysql.Error as e:\n",
    "    print(\"Error: Could not connect to MySQL database.\")\n",
    "    print(e)"
   ]
  },
  {
   "cell_type": "markdown",
   "id": "1c7121aa",
   "metadata": {},
   "source": [
    "## Create cursor"
   ]
  },
  {
   "cell_type": "code",
   "execution_count": 11,
   "id": "9da74474",
   "metadata": {},
   "outputs": [],
   "source": [
    "try:\n",
    "    my_cursor = my_db.cursor()\n",
    "except pymysql.Error as e:\n",
    "    print(\"Error: Could not get cursor to the database.\")\n",
    "    print(e)"
   ]
  },
  {
   "cell_type": "markdown",
   "id": "0760fb32",
   "metadata": {},
   "source": [
    "## Create database"
   ]
  },
  {
   "cell_type": "code",
   "execution_count": 13,
   "id": "60f6acbd",
   "metadata": {},
   "outputs": [],
   "source": [
    "try:\n",
    "    my_cursor.execute(\"CREATE DATABASE mypracticedb\")\n",
    "except pymysql.Error as e:\n",
    "    print(e)"
   ]
  },
  {
   "cell_type": "markdown",
   "id": "3d69a79c",
   "metadata": {},
   "source": [
    "## Connect to database"
   ]
  },
  {
   "cell_type": "code",
   "execution_count": 15,
   "id": "85607f7b",
   "metadata": {},
   "outputs": [
    {
     "name": "stdout",
     "output_type": "stream",
     "text": [
      "········\n"
     ]
    }
   ],
   "source": [
    "try:\n",
    "    my_db.close()\n",
    "except pymysql.Error as e:\n",
    "    print(e)\n",
    "    \n",
    "try: \n",
    "    my_db = pymysql.connect(host='localhost',\n",
    "                            user='quincytromp',\n",
    "                            password=getpass.getpass(),\n",
    "                            database='mypracticedb',\n",
    "                            autocommit=True)\n",
    "except pymysql.Error as e:\n",
    "    print(\"Error: Could not connect to database.\")\n",
    "    print(e)\n",
    "    \n",
    "try:\n",
    "    my_cursor = my_db.cursor()\n",
    "except pymysql.Error as e:\n",
    "    print(e)"
   ]
  },
  {
   "cell_type": "markdown",
   "id": "776191fd",
   "metadata": {},
   "source": [
    "## Create Table"
   ]
  },
  {
   "cell_type": "code",
   "execution_count": 16,
   "id": "5b264c77",
   "metadata": {},
   "outputs": [],
   "source": [
    "try:\n",
    "    my_cursor.execute(\"CREATE TABLE students (student_id int, name varchar(128),\\\n",
    "    age int, gender varchar(8), subject varchar(32), marks int);\")\n",
    "except pymysql.Error as e:\n",
    "    print(\"Error: Issue creating table.\")\n",
    "    print(e)"
   ]
  },
  {
   "cell_type": "markdown",
   "id": "57cc2e6b",
   "metadata": {},
   "source": [
    "## Insert rows"
   ]
  },
  {
   "cell_type": "code",
   "execution_count": 21,
   "id": "da2dd76b",
   "metadata": {},
   "outputs": [],
   "source": [
    "try:\n",
    "    my_cursor.execute(\"INSERT INTO students (student_id, name, age, gender, subject, marks) \\\n",
    "    VALUES (%s, %s, %s, %s, %s, %s)\", (1, 'Raj', 23, 'Male', 'Python', 85))\n",
    "except pymysql.Error as e:\n",
    "    print(\"Error: Issue inserting data.\")\n",
    "    print(e)\n",
    "\n",
    "try:\n",
    "    my_cursor.execute(\"INSERT INTO students (student_id, name, age, gender, subject, marks) \\\n",
    "    VALUES (%s, %s, %s, %s, %s, %s)\", (2, 'Priya', 22, 'Female', 'Python', 83))\n",
    "except pymysql.Error as e:\n",
    "    print(\"Error: Issue inserting data.\")\n",
    "    print(e)"
   ]
  },
  {
   "cell_type": "markdown",
   "id": "4e26f044",
   "metadata": {},
   "source": [
    "## Validate data"
   ]
  },
  {
   "cell_type": "code",
   "execution_count": 25,
   "id": "7996ee17",
   "metadata": {},
   "outputs": [
    {
     "name": "stdout",
     "output_type": "stream",
     "text": [
      "(1, 'Raj', 23, 'Male', 'Python', 85)\n",
      "(2, 'Priya', 22, 'Female', 'Python', 83)\n"
     ]
    }
   ],
   "source": [
    "try:\n",
    "    my_cursor.execute(\"SELECT * FROM students;\")\n",
    "except pymysql.Error as e:\n",
    "    print(\"Error: Failed to retrieve data.\")\n",
    "    print(e)\n",
    "    \n",
    "row = my_cursor.fetchone()\n",
    "while row:\n",
    "    print(row)\n",
    "    row = my_cursor.fetchone()"
   ]
  },
  {
   "cell_type": "markdown",
   "id": "ac41c9bb",
   "metadata": {},
   "source": [
    "## Close connection"
   ]
  },
  {
   "cell_type": "code",
   "execution_count": 26,
   "id": "269ebd1d",
   "metadata": {},
   "outputs": [],
   "source": [
    "my_cursor.close()\n",
    "my_db.close()"
   ]
  }
 ],
 "metadata": {
  "kernelspec": {
   "display_name": "Python 3 (ipykernel)",
   "language": "python",
   "name": "python3"
  },
  "language_info": {
   "codemirror_mode": {
    "name": "ipython",
    "version": 3
   },
   "file_extension": ".py",
   "mimetype": "text/x-python",
   "name": "python",
   "nbconvert_exporter": "python",
   "pygments_lexer": "ipython3",
   "version": "3.9.7"
  }
 },
 "nbformat": 4,
 "nbformat_minor": 5
}
