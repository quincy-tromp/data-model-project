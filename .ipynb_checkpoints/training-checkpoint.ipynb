{
 "cells": [
  {
   "cell_type": "code",
   "execution_count": 1,
   "id": "ecd570e6",
   "metadata": {},
   "outputs": [],
   "source": [
    "import pymysql\n",
    "import getpass"
   ]
  },
  {
   "cell_type": "code",
   "execution_count": 2,
   "id": "da7fff44",
   "metadata": {},
   "outputs": [
    {
     "name": "stdout",
     "output_type": "stream",
     "text": [
      "········\n"
     ]
    }
   ],
   "source": [
    "try:\n",
    "    mydb = pymysql.connect(host='localhost',\n",
    "                           user='quincytromp',\n",
    "                           password=getpass.getpass(),\n",
    "                           autocommit=True)\n",
    "except pymysql.Error as e:\n",
    "    print(\"Error: Could not connect to RDBMS.\")\n",
    "    print(e)"
   ]
  },
  {
   "cell_type": "code",
   "execution_count": 3,
   "id": "1b039270",
   "metadata": {},
   "outputs": [],
   "source": [
    "try:\n",
    "    cursor = mydb.cursor()\n",
    "except pymysql.Error as e:\n",
    "    print(\"Error: Could not get cursor.\")\n",
    "    print(e)"
   ]
  },
  {
   "cell_type": "code",
   "execution_count": 4,
   "id": "25baaf14",
   "metadata": {},
   "outputs": [],
   "source": [
    "try:\n",
    "    cursor.execute(\"DROP DATABASE mypracticedb;\")\n",
    "except pymysql.Error as e:\n",
    "    print(\"Error: Could not drop database.\")\n",
    "    print(e)"
   ]
  },
  {
   "cell_type": "code",
   "execution_count": 5,
   "id": "04362a2a",
   "metadata": {},
   "outputs": [],
   "source": [
    "try:\n",
    "    cursor.execute(\"CREATE DATABASE mypracticedb;\")\n",
    "except pymysql.Error as e:\n",
    "    print(\"Error: Could not create database.\")\n",
    "    print(e)"
   ]
  },
  {
   "cell_type": "code",
   "execution_count": 6,
   "id": "7b2c50ae",
   "metadata": {},
   "outputs": [],
   "source": [
    "try:\n",
    "    cursor.execute(\"USE mypracticedb;\")\n",
    "except pymysql.Error as e:\n",
    "    print(\"Error: Could not connect to database.\")\n",
    "    print(e)"
   ]
  },
  {
   "cell_type": "code",
   "execution_count": 7,
   "id": "2f7de422",
   "metadata": {},
   "outputs": [],
   "source": [
    "try:\n",
    "    cursor.execute(\"CREATE TABLE students (student_id int, name varchar(16), age int, \\\n",
    "    gender varchar(8), subject varchar(16), marks int);\")\n",
    "except pymysql.Error as e:\n",
    "    print(\"Error: Could not create table.\")\n",
    "    print(e)"
   ]
  },
  {
   "cell_type": "code",
   "execution_count": 12,
   "id": "cae489d3",
   "metadata": {},
   "outputs": [],
   "source": [
    "try:\n",
    "    cursor.execute(\"INSERT INTO students (student_id, name, age, gender, subject, marks) \\\n",
    "    VALUES (%s, %s, %s, %s, %s, %s)\", (1, 'Raj', 23, 'Male', 'Python', 85))\n",
    "except pymysql.Error as e:\n",
    "    print(\"Error: Issue inserting data.\")\n",
    "    print(e)\n",
    "\n",
    "try:\n",
    "    cursor.execute(\"INSERT INTO students (student_id, name, age, gender, subject, marks) \\\n",
    "    VALUES (%s, %s, %s, %s, %s, %s)\", (2, 'Priya', 22, 'Female', 'Python', 83))\n",
    "except pymysql.Error as e:\n",
    "    print(\"Error: Issue inserting data.\")\n",
    "    print(e)"
   ]
  },
  {
   "cell_type": "code",
   "execution_count": 13,
   "id": "55316a47",
   "metadata": {},
   "outputs": [
    {
     "name": "stdout",
     "output_type": "stream",
     "text": [
      "(1, 'Raj', 23, 'Male', 'Python', 85)\n",
      "(1, 'Raj', 23, 'Male', 'Python', 85)\n",
      "(2, 'Priya', 22, 'Female', 'Python', 83)\n"
     ]
    }
   ],
   "source": [
    "try:\n",
    "    cursor.execute(\"SELECT * FROM students;\")\n",
    "except pymysql.Error as e:\n",
    "    print(\"Error: Could not fetch data.\")\n",
    "    print(e)\n",
    "\n",
    "row = cursor.fetchone()\n",
    "while row:\n",
    "    print(row)\n",
    "    row = cursor.fetchone()"
   ]
  },
  {
   "cell_type": "code",
   "execution_count": 14,
   "id": "1289e4b8",
   "metadata": {},
   "outputs": [],
   "source": [
    "cursor.close()\n",
    "mydb.close()"
   ]
  }
 ],
 "metadata": {
  "kernelspec": {
   "display_name": "Python 3 (ipykernel)",
   "language": "python",
   "name": "python3"
  },
  "language_info": {
   "codemirror_mode": {
    "name": "ipython",
    "version": 3
   },
   "file_extension": ".py",
   "mimetype": "text/x-python",
   "name": "python",
   "nbconvert_exporter": "python",
   "pygments_lexer": "ipython3",
   "version": "3.9.7"
  }
 },
 "nbformat": 4,
 "nbformat_minor": 5
}
